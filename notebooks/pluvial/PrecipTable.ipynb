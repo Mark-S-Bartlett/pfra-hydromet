{
 "cells": [
  {
   "cell_type": "markdown",
   "metadata": {},
   "source": [
    "# Precipitation Frequency Table\n",
    "\n",
    "__Description__: Auto-retrieve [NOAA Atlas 14](https://hdsc.nws.noaa.gov/hdsc/pfds/pfds_gis.html) precipitation statistics from [FTP](ftp://hdsc.nws.noaa.gov/pub/hdsc/data/) and calcualte the area-averaged precipitation frequency table for the area of interest (AOI). Also calculates the 24-hour rainfall distribution from a set of rainfall data values for 5-minute through 24-hour durations  (see NRCS Engineering Handbook Part 630 https://directives.sc.egov.usda.gov/OpenNonWebContent.aspx?content=43924.wba\n",
    "\n",
    "__Input__: A vector polygon of the AOI and the durations of interest.\n",
    "\n",
    "__Output__: A spreadsheet with sheets for each duration and a sheet with the NOAA Atlas 14 volume and region numbers. For each duration, the sheet contains a table with area-averaged precipitation and confidence limits. A spreadsheet with sheets for each recurrence interval that includes the NRCS nested hyetograph for the 24 hour storm.\n",
    "\n",
    "---"
   ]
  },
  {
   "cell_type": "markdown",
   "metadata": {},
   "source": [
    "## Load Libraries, Parameters, and Data:"
   ]
  },
  {
   "cell_type": "markdown",
   "metadata": {},
   "source": [
    "### Libraries:"
   ]
  },
  {
   "cell_type": "code",
   "execution_count": 1,
   "metadata": {},
   "outputs": [],
   "source": [
    "import sys\n",
    "sys.path.append('../../core')\n",
    "from hydromet import*\n",
    "from hydromet_stratified import precip_hyetograph_nrcs\n",
    "from pyproj import Transformer"
   ]
  },
  {
   "cell_type": "markdown",
   "metadata": {},
   "source": [
    "### Parameters: "
   ]
  },
  {
   "cell_type": "markdown",
   "metadata": {},
   "source": [
    "#### Papermill (site specific):"
   ]
  },
  {
   "cell_type": "code",
   "execution_count": 2,
   "metadata": {},
   "outputs": [],
   "source": [
    "\n",
    "## Filenames and fields:\n",
    "Project_Area = 'crow'          # Project area name\n",
    "Pluvial_Model = 'P01'                # Pluvial model name\n",
    "BCN = 'crow_domain'               # Domain/boundary condition name 071200040505 Kansas 102500170609 Nevada '160600140303'\n",
    "polygon = 'crow_domain.shp'           # Shapefile name\n",
    "filter_field = 'name'          #HUC12 Attribute with in the vector polygon used for data selection\n",
    "select_data = 'outlet'                    # Value within the filter_field used for data selection\n",
    "\n",
    "## Paths:\n",
    "root_dir = pl.Path(os.getcwd())\n",
    "datarepository_dir = root_dir.parent.parent/'DataRepository'\n",
    "polygon_dir = root_dir/'Inputs'/polygon\n",
    "outputs_dir = root_dir/'Outputs'\n",
    "\n",
    "\n",
    "brute_force_projection = None"
   ]
  },
  {
   "cell_type": "markdown",
   "metadata": {},
   "source": [
    "##### Convert all paths to objects:"
   ]
  },
  {
   "cell_type": "code",
   "execution_count": 3,
   "metadata": {},
   "outputs": [],
   "source": [
    "datarepository_dir = pl.Path(datarepository_dir)\n",
    "polygon_dir = pl.Path(polygon_dir)\n",
    "outputs_dir = pl.Path(outputs_dir)"
   ]
  },
  {
   "cell_type": "markdown",
   "metadata": {},
   "source": [
    "#### Global (project specific):"
   ]
  },
  {
   "cell_type": "code",
   "execution_count": 4,
   "metadata": {},
   "outputs": [],
   "source": [
    "noaa_data_crs = 4326 #Based on newer version of GeoPandas\n",
    "\n",
    "durations = ['05m', '10m', '15m', '30m', '60m', '02h', '03h', '06h', '12h', '24h'] \n",
    "dur_names = ['5min', '10min', '15min', '30min', '60min', '2hr', '3hr', '6hr', '12hr', '24hr'] \n",
    "\n",
    "vol_code_filename = 'NOAA_Atlas_Volume_Codes.json'\n",
    "Temporal_area_filename = 'NOAA_Temporal_Areas_US.geojson'\n",
    "\n",
    "verbose = True"
   ]
  },
  {
   "cell_type": "markdown",
   "metadata": {},
   "source": [
    "## Read Vector Polygon:"
   ]
  },
  {
   "cell_type": "markdown",
   "metadata": {},
   "source": [
    "### Load as a geodataframe:"
   ]
  },
  {
   "cell_type": "code",
   "execution_count": 5,
   "metadata": {},
   "outputs": [
    {
     "data": {
      "text/html": [
       "<div>\n",
       "<style scoped>\n",
       "    .dataframe tbody tr th:only-of-type {\n",
       "        vertical-align: middle;\n",
       "    }\n",
       "\n",
       "    .dataframe tbody tr th {\n",
       "        vertical-align: top;\n",
       "    }\n",
       "\n",
       "    .dataframe thead th {\n",
       "        text-align: right;\n",
       "    }\n",
       "</style>\n",
       "<table border=\"1\" class=\"dataframe\">\n",
       "  <thead>\n",
       "    <tr style=\"text-align: right;\">\n",
       "      <th></th>\n",
       "      <th>cat</th>\n",
       "      <th>value</th>\n",
       "      <th>label</th>\n",
       "      <th>name</th>\n",
       "      <th>geometry</th>\n",
       "    </tr>\n",
       "  </thead>\n",
       "  <tbody>\n",
       "    <tr>\n",
       "      <th>0</th>\n",
       "      <td>1</td>\n",
       "      <td>1</td>\n",
       "      <td>None</td>\n",
       "      <td>outlet</td>\n",
       "      <td>POLYGON ((679816.175 4600721.004, 679816.784 4...</td>\n",
       "    </tr>\n",
       "  </tbody>\n",
       "</table>\n",
       "</div>"
      ],
      "text/plain": [
       "   cat  value label    name                                           geometry\n",
       "0    1      1  None  outlet  POLYGON ((679816.175 4600721.004, 679816.784 4..."
      ]
     },
     "execution_count": 5,
     "metadata": {},
     "output_type": "execute_result"
    }
   ],
   "source": [
    "gdf = gpd.read_file(polygon_dir)\n",
    "\n",
    "check_attributes(gdf)\n",
    "\n",
    "gdf.head(1)"
   ]
  },
  {
   "cell_type": "markdown",
   "metadata": {},
   "source": [
    "### Determine projection:\n",
    "- If a projection cannot be determined automatically, search for the projection using the EPSG number on the following website: https://www.spatialreference.org/, select 'Proj4', and copy and paste the string above, setting it equal to brute_force_projection. Rerun the cell with the brute_force_projection string and the cell below."
   ]
  },
  {
   "cell_type": "code",
   "execution_count": 11,
   "metadata": {},
   "outputs": [
    {
     "name": "stdout",
     "output_type": "stream",
     "text": [
      "Original Coordinate Reference System: epsg:26918\n",
      "Vector Layer crs = +proj=utm +zone=18 +datum=NAD83 +units=m +no_defs\n"
     ]
    },
    {
     "name": "stderr",
     "output_type": "stream",
     "text": [
      "C:\\Users\\cusmith\\Anaconda3\\envs\\stable\\lib\\site-packages\\pyproj\\crs\\crs.py:53: FutureWarning: '+init=<authority>:<code>' syntax is deprecated. '<authority>:<code>' is the preferred initialization method. When making the change, be mindful of axis order changes: https://pyproj4.github.io/pyproj/stable/gotchas.html#axis-order-changes-in-proj-6\n",
      "  return _prepare_from_string(\" \".join(pjargs))\n"
     ]
    }
   ],
   "source": [
    "print('Original Coordinate Reference System:', gdf.crs)\n",
    "\n",
    "\n",
    "with fiona.collection(polygon_dir, 'r') as layer:\n",
    "    try:\n",
    "        vector_crs_prj = Proj(layer.crs).srs\n",
    "        if 'epsg' in vector_crs_prj: \n",
    "            raise KeyboardInterrupt\n",
    "        else: \n",
    "            print('Vector Layer crs = {}'.format(vector_crs_prj))\n",
    "        \n",
    "    except:\n",
    "        assert brute_force_projection!= None, 'Need to specify projection'\n",
    "        vector_crs_prj = brute_force_projection\n",
    "        print('Error: Setting projection as {}'.format(brute_force_projection))"
   ]
  },
  {
   "cell_type": "markdown",
   "metadata": {},
   "source": [
    "### Extract the area of interest, reproject, and plot:"
   ]
  },
  {
   "cell_type": "code",
   "execution_count": 12,
   "metadata": {},
   "outputs": [],
   "source": [
    "gdf1 = gdf.loc[gdf[filter_field] == select_data].copy()\n",
    "\n",
    "gdf1.crs = vector_crs_prj"
   ]
  },
  {
   "cell_type": "code",
   "execution_count": 22,
   "metadata": {},
   "outputs": [
    {
     "data": {
      "image/png": "[encoded data removed]",
      "text/plain": [
       "<Figure size 720x1008 with 1 Axes>"
      ]
     },
     "metadata": {
      "needs_background": "light"
     },
     "output_type": "display_data"
    }
   ],
   "source": [
    "#Mark - issue with reprojection from NAD83 Lat lon to WGS84 Lat Lon\n",
    "geo_df = gdf1.to_crs(epsg = noaa_data_crs)\n",
    "#geo_df = gdf1\n",
    "plot_area_of_interest(geo_df, select_data, filter_field)"
   ]
  },
  {
   "cell_type": "markdown",
   "metadata": {},
   "source": [
    "## Identify the NOAA Atlas 14 Volume Code:"
   ]
  },
  {
   "cell_type": "markdown",
   "metadata": {},
   "source": [
    "### Determine the volume and region numbers:"
   ]
  },
  {
   "cell_type": "code",
   "execution_count": 23,
   "metadata": {},
   "outputs": [
    {
     "name": "stdout",
     "output_type": "stream",
     "text": [
      "Volume           10\n",
      "Region           2\n",
      "Percent_area     100.0\n"
     ]
    },
    {
     "data": {
      "image/png": "[encoded data removed]",
      "text/plain": [
       "<Figure size 720x1008 with 1 Axes>"
      ]
     },
     "metadata": {
      "needs_background": "light"
     },
     "output_type": "display_data"
    }
   ],
   "source": [
    "volume_dict, intersection_gdf = intersect_temporal_areas(geo_df, datarepository_dir, Temporal_area_filename, alldata=True)\n",
    "\n",
    "plot_aoi_noaa_intersection(intersection_gdf, select_data)\n",
    "\n",
    "volume = volume_dict['Volume']\n",
    "#volume = '9' # Manually specify the volume if the input shapes do not overlap below"
   ]
  },
  {
   "cell_type": "markdown",
   "metadata": {},
   "source": [
    "### Load Atlas 14 volume code from json:"
   ]
  },
  {
   "cell_type": "code",
   "execution_count": 24,
   "metadata": {},
   "outputs": [
    {
     "name": "stdout",
     "output_type": "stream",
     "text": [
      "NOAA Atlas 14 Volume Code: ne\n"
     ]
    }
   ],
   "source": [
    "vol_code = get_volume_code(datarepository_dir, vol_code_filename, volume)"
   ]
  },
  {
   "cell_type": "markdown",
   "metadata": {},
   "source": [
    "## Retrieve the Precipitation Frequency Data:"
   ]
  },
  {
   "cell_type": "markdown",
   "metadata": {},
   "source": [
    "### Get list of zip files:"
   ]
  },
  {
   "cell_type": "code",
   "execution_count": 25,
   "metadata": {},
   "outputs": [
    {
     "name": "stdout",
     "output_type": "stream",
     "text": [
      "30 files found for 05m\n",
      "30 files found for 10m\n",
      "30 files found for 15m\n",
      "30 files found for 30m\n",
      "30 files found for 60m\n",
      "30 files found for 02h\n",
      "30 files found for 03h\n",
      "30 files found for 06h\n",
      "30 files found for 12h\n",
      "30 files found for 24h\n"
     ]
    }
   ],
   "source": [
    "noaa_url = 'https://hdsc.nws.noaa.gov/pub/hdsc/data/{}/'.format(vol_code)\n",
    "\n",
    "req = urllib.request.Request(noaa_url)\n",
    "data = urllib.request.urlopen(req).read().decode().split()\n",
    "\n",
    "copy_zips = []\n",
    "for duration in durations:\n",
    "    zips = [d for d in data if ('.zip' in d) and ('{}'.format(duration) in d) and ('ams' not in d)]\n",
    "    copy_zips.append(zips)\n",
    "    if verbose: \n",
    "        print('{} files found for {}'.format(len(zips), duration))\n",
    "\n",
    "all_zips_list = list(np.array(copy_zips).flat)\n",
    "\n",
    "for i, zip_name in enumerate(all_zips_list):\n",
    "    all_zips_list[i]= zip_name.split(\"\\\"\", 1)[1].split(\"\\\"\", 1)[0]"
   ]
  },
  {
   "cell_type": "markdown",
   "metadata": {},
   "source": [
    "### Iterate through zip files and build a table:"
   ]
  },
  {
   "cell_type": "code",
   "execution_count": 26,
   "metadata": {},
   "outputs": [
    {
     "name": "stdout",
     "output_type": "stream",
     "text": [
      "0 ne1yr05ma.zip\n",
      "1 ne1yr05mal.zip\n",
      "2 ne1yr05mau.zip\n",
      "3 ne2yr05ma.zip\n",
      "4 ne2yr05mal.zip\n",
      "5 ne2yr05mau.zip\n",
      "6 ne5yr05ma.zip\n",
      "7 ne5yr05mal.zip\n",
      "8 ne5yr05mau.zip\n",
      "9 ne10yr05ma.zip\n",
      "10 ne10yr05mal.zip\n",
      "11 ne10yr05mau.zip\n",
      "12 ne25yr05ma.zip\n",
      "13 ne25yr05mal.zip\n",
      "14 ne25yr05mau.zip\n",
      "15 ne50yr05ma.zip\n",
      "16 ne50yr05mal.zip\n",
      "17 ne50yr05mau.zip\n",
      "18 ne100yr05ma.zip\n",
      "19 ne100yr05mal.zip\n",
      "20 ne100yr05mau.zip\n",
      "21 ne200yr05ma.zip\n",
      "22 ne200yr05mal.zip\n",
      "23 ne200yr05mau.zip\n",
      "24 ne500yr05ma.zip\n",
      "25 ne500yr05mal.zip\n",
      "26 ne500yr05mau.zip\n",
      "27 ne1000yr05ma.zip\n",
      "28 ne1000yr05mal.zip\n",
      "29 ne1000yr05mau.zip\n",
      "30 ne1yr10ma.zip\n",
      "31 ne1yr10mal.zip\n",
      "32 ne1yr10mau.zip\n",
      "33 ne2yr10ma.zip\n",
      "34 ne2yr10mal.zip\n",
      "35 ne2yr10mau.zip\n",
      "36 ne5yr10ma.zip\n",
      "37 ne5yr10mal.zip\n",
      "38 ne5yr10mau.zip\n",
      "39 ne10yr10ma.zip\n",
      "40 ne10yr10mal.zip\n",
      "41 ne10yr10mau.zip\n",
      "42 ne25yr10ma.zip\n",
      "43 ne25yr10mal.zip\n",
      "44 ne25yr10mau.zip\n",
      "45 ne50yr10ma.zip\n",
      "46 ne50yr10mal.zip\n",
      "47 ne50yr10mau.zip\n",
      "48 ne100yr10ma.zip\n",
      "49 ne100yr10mal.zip\n",
      "50 ne100yr10mau.zip\n",
      "51 ne200yr10ma.zip\n",
      "52 ne200yr10mal.zip\n",
      "53 ne200yr10mau.zip\n",
      "54 ne500yr10ma.zip\n",
      "55 ne500yr10mal.zip\n",
      "56 ne500yr10mau.zip\n",
      "57 ne1000yr10ma.zip\n",
      "58 ne1000yr10mal.zip\n",
      "59 ne1000yr10mau.zip\n",
      "60 ne1yr15ma.zip\n",
      "61 ne1yr15mal.zip\n",
      "62 ne1yr15mau.zip\n",
      "63 ne2yr15ma.zip\n",
      "64 ne2yr15mal.zip\n",
      "65 ne2yr15mau.zip\n",
      "66 ne5yr15ma.zip\n",
      "67 ne5yr15mal.zip\n",
      "68 ne5yr15mau.zip\n",
      "69 ne10yr15ma.zip\n",
      "70 ne10yr15mal.zip\n",
      "71 ne10yr15mau.zip\n",
      "72 ne25yr15ma.zip\n",
      "73 ne25yr15mal.zip\n",
      "74 ne25yr15mau.zip\n",
      "75 ne50yr15ma.zip\n",
      "76 ne50yr15mal.zip\n",
      "77 ne50yr15mau.zip\n",
      "78 ne100yr15ma.zip\n",
      "79 ne100yr15mal.zip\n",
      "80 ne100yr15mau.zip\n",
      "81 ne200yr15ma.zip\n",
      "82 ne200yr15mal.zip\n",
      "83 ne200yr15mau.zip\n",
      "84 ne500yr15ma.zip\n",
      "85 ne500yr15mal.zip\n",
      "86 ne500yr15mau.zip\n",
      "87 ne1000yr15ma.zip\n",
      "88 ne1000yr15mal.zip\n",
      "89 ne1000yr15mau.zip\n",
      "90 ne1yr30ma.zip\n",
      "91 ne1yr30mal.zip\n",
      "92 ne1yr30mau.zip\n",
      "93 ne2yr30ma.zip\n",
      "94 ne2yr30mal.zip\n",
      "95 ne2yr30mau.zip\n",
      "96 ne5yr30ma.zip\n",
      "97 ne5yr30mal.zip\n",
      "98 ne5yr30mau.zip\n",
      "99 ne10yr30ma.zip\n",
      "100 ne10yr30mal.zip\n",
      "101 ne10yr30mau.zip\n",
      "102 ne25yr30ma.zip\n",
      "103 ne25yr30mal.zip\n",
      "104 ne25yr30mau.zip\n",
      "105 ne50yr30ma.zip\n",
      "106 ne50yr30mal.zip\n",
      "107 ne50yr30mau.zip\n",
      "108 ne100yr30ma.zip\n",
      "109 ne100yr30mal.zip\n",
      "110 ne100yr30mau.zip\n",
      "111 ne200yr30ma.zip\n",
      "112 ne200yr30mal.zip\n",
      "113 ne200yr30mau.zip\n",
      "114 ne500yr30ma.zip\n",
      "115 ne500yr30mal.zip\n",
      "116 ne500yr30mau.zip\n",
      "117 ne1000yr30ma.zip\n",
      "118 ne1000yr30mal.zip\n",
      "119 ne1000yr30mau.zip\n",
      "120 ne1yr60ma.zip\n",
      "121 ne1yr60mal.zip\n",
      "122 ne1yr60mau.zip\n",
      "123 ne2yr60ma.zip\n",
      "124 ne2yr60mal.zip\n",
      "125 ne2yr60mau.zip\n",
      "126 ne5yr60ma.zip\n",
      "127 ne5yr60mal.zip\n",
      "128 ne5yr60mau.zip\n",
      "129 ne10yr60ma.zip\n",
      "130 ne10yr60mal.zip\n",
      "131 ne10yr60mau.zip\n",
      "132 ne25yr60ma.zip\n",
      "133 ne25yr60mal.zip\n",
      "134 ne25yr60mau.zip\n",
      "135 ne50yr60ma.zip\n",
      "136 ne50yr60mal.zip\n",
      "137 ne50yr60mau.zip\n",
      "138 ne100yr60ma.zip\n",
      "139 ne100yr60mal.zip\n",
      "140 ne100yr60mau.zip\n",
      "141 ne200yr60ma.zip\n",
      "142 ne200yr60mal.zip\n",
      "143 ne200yr60mau.zip\n",
      "144 ne500yr60ma.zip\n",
      "145 ne500yr60mal.zip\n",
      "146 ne500yr60mau.zip\n",
      "147 ne1000yr60ma.zip\n",
      "148 ne1000yr60mal.zip\n",
      "149 ne1000yr60mau.zip\n",
      "150 ne1yr02ha.zip\n",
      "151 ne1yr02hal.zip\n",
      "152 ne1yr02hau.zip\n",
      "153 ne2yr02ha.zip\n",
      "154 ne2yr02hal.zip\n",
      "155 ne2yr02hau.zip\n",
      "156 ne5yr02ha.zip\n",
      "157 ne5yr02hal.zip\n",
      "158 ne5yr02hau.zip\n",
      "159 ne10yr02ha.zip\n",
      "160 ne10yr02hal.zip\n",
      "161 ne10yr02hau.zip\n",
      "162 ne25yr02ha.zip\n",
      "163 ne25yr02hal.zip\n",
      "164 ne25yr02hau.zip\n",
      "165 ne50yr02ha.zip\n",
      "166 ne50yr02hal.zip\n",
      "167 ne50yr02hau.zip\n",
      "168 ne100yr02ha.zip\n",
      "169 ne100yr02hal.zip\n",
      "170 ne100yr02hau.zip\n",
      "171 ne200yr02ha.zip\n",
      "172 ne200yr02hal.zip\n",
      "173 ne200yr02hau.zip\n",
      "174 ne500yr02ha.zip\n",
      "175 ne500yr02hal.zip\n",
      "176 ne500yr02hau.zip\n",
      "177 ne1000yr02ha.zip\n",
      "178 ne1000yr02hal.zip\n",
      "179 ne1000yr02hau.zip\n",
      "180 ne1yr03ha.zip\n",
      "181 ne1yr03hal.zip\n",
      "182 ne1yr03hau.zip\n",
      "183 ne2yr03ha.zip\n",
      "184 ne2yr03hal.zip\n",
      "185 ne2yr03hau.zip\n",
      "186 ne5yr03ha.zip\n",
      "187 ne5yr03hal.zip\n",
      "188 ne5yr03hau.zip\n",
      "189 ne10yr03ha.zip\n",
      "190 ne10yr03hal.zip\n",
      "191 ne10yr03hau.zip\n",
      "192 ne25yr03ha.zip\n",
      "193 ne25yr03hal.zip\n",
      "194 ne25yr03hau.zip\n",
      "195 ne50yr03ha.zip\n",
      "196 ne50yr03hal.zip\n",
      "197 ne50yr03hau.zip\n",
      "198 ne100yr03ha.zip\n",
      "199 ne100yr03hal.zip\n",
      "200 ne100yr03hau.zip\n",
      "201 ne200yr03ha.zip\n",
      "202 ne200yr03hal.zip\n",
      "203 ne200yr03hau.zip\n",
      "204 ne500yr03ha.zip\n",
      "205 ne500yr03hal.zip\n",
      "206 ne500yr03hau.zip\n",
      "207 ne1000yr03ha.zip\n",
      "208 ne1000yr03hal.zip\n",
      "209 ne1000yr03hau.zip\n",
      "210 ne1yr06ha.zip\n",
      "211 ne1yr06hal.zip\n",
      "212 ne1yr06hau.zip\n",
      "213 ne2yr06ha.zip\n",
      "214 ne2yr06hal.zip\n",
      "215 ne2yr06hau.zip\n",
      "216 ne5yr06ha.zip\n",
      "217 ne5yr06hal.zip\n",
      "218 ne5yr06hau.zip\n",
      "219 ne10yr06ha.zip\n",
      "220 ne10yr06hal.zip\n",
      "221 ne10yr06hau.zip\n",
      "222 ne25yr06ha.zip\n",
      "223 ne25yr06hal.zip\n",
      "224 ne25yr06hau.zip\n",
      "225 ne50yr06ha.zip\n",
      "226 ne50yr06hal.zip\n",
      "227 ne50yr06hau.zip\n",
      "228 ne100yr06ha.zip\n",
      "229 ne100yr06hal.zip\n",
      "230 ne100yr06hau.zip\n",
      "231 ne200yr06ha.zip\n",
      "232 ne200yr06hal.zip\n",
      "233 ne200yr06hau.zip\n",
      "234 ne500yr06ha.zip\n",
      "235 ne500yr06hal.zip\n",
      "236 ne500yr06hau.zip\n",
      "237 ne1000yr06ha.zip\n",
      "238 ne1000yr06hal.zip\n",
      "239 ne1000yr06hau.zip\n",
      "240 ne1yr12ha.zip\n",
      "241 ne1yr12hal.zip\n",
      "242 ne1yr12hau.zip\n",
      "243 ne2yr12ha.zip\n",
      "244 ne2yr12hal.zip\n",
      "245 ne2yr12hau.zip\n",
      "246 ne5yr12ha.zip\n",
      "247 ne5yr12hal.zip\n",
      "248 ne5yr12hau.zip\n",
      "249 ne10yr12ha.zip\n",
      "250 ne10yr12hal.zip\n",
      "251 ne10yr12hau.zip\n",
      "252 ne25yr12ha.zip\n",
      "253 ne25yr12hal.zip\n",
      "254 ne25yr12hau.zip\n",
      "255 ne50yr12ha.zip\n",
      "256 ne50yr12hal.zip\n",
      "257 ne50yr12hau.zip\n",
      "258 ne100yr12ha.zip\n",
      "259 ne100yr12hal.zip\n",
      "260 ne100yr12hau.zip\n",
      "261 ne200yr12ha.zip\n",
      "262 ne200yr12hal.zip\n",
      "263 ne200yr12hau.zip\n",
      "264 ne500yr12ha.zip\n",
      "265 ne500yr12hal.zip\n",
      "266 ne500yr12hau.zip\n",
      "267 ne1000yr12ha.zip\n",
      "268 ne1000yr12hal.zip\n",
      "269 ne1000yr12hau.zip\n",
      "270 ne1yr24ha.zip\n",
      "271 ne1yr24hal.zip\n",
      "272 ne1yr24hau.zip\n",
      "273 ne2yr24ha.zip\n",
      "274 ne2yr24hal.zip\n",
      "275 ne2yr24hau.zip\n",
      "276 ne5yr24ha.zip\n",
      "277 ne5yr24hal.zip\n",
      "278 ne5yr24hau.zip\n",
      "279 ne10yr24ha.zip\n",
      "280 ne10yr24hal.zip\n",
      "281 ne10yr24hau.zip\n",
      "282 ne25yr24ha.zip\n",
      "283 ne25yr24hal.zip\n",
      "284 ne25yr24hau.zip\n",
      "285 ne50yr24ha.zip\n",
      "286 ne50yr24hal.zip\n",
      "287 ne50yr24hau.zip\n",
      "288 ne100yr24ha.zip\n",
      "289 ne100yr24hal.zip\n",
      "290 ne100yr24hau.zip\n",
      "291 ne200yr24ha.zip\n",
      "292 ne200yr24hal.zip\n",
      "293 ne200yr24hau.zip\n",
      "294 ne500yr24ha.zip\n",
      "295 ne500yr24hal.zip\n",
      "296 ne500yr24hau.zip\n",
      "297 ne1000yr24ha.zip\n",
      "298 ne1000yr24hal.zip\n",
      "299 ne1000yr24hau.zip\n",
      "1258 Seconds\n"
     ]
    },
    {
     "data": {
      "text/html": [
       "<div>\n",
       "<style scoped>\n",
       "    .dataframe tbody tr th:only-of-type {\n",
       "        vertical-align: middle;\n",
       "    }\n",
       "\n",
       "    .dataframe tbody tr th {\n",
       "        vertical-align: top;\n",
       "    }\n",
       "\n",
       "    .dataframe thead th {\n",
       "        text-align: right;\n",
       "    }\n",
       "</style>\n",
       "<table border=\"1\" class=\"dataframe\">\n",
       "  <thead>\n",
       "    <tr style=\"text-align: right;\">\n",
       "      <th></th>\n",
       "      <th>region</th>\n",
       "      <th>TR</th>\n",
       "      <th>duration</th>\n",
       "      <th>statistic</th>\n",
       "      <th>value</th>\n",
       "    </tr>\n",
       "  </thead>\n",
       "  <tbody>\n",
       "    <tr>\n",
       "      <th>0</th>\n",
       "      <td>ne</td>\n",
       "      <td>1</td>\n",
       "      <td>05m</td>\n",
       "      <td>Expected Value</td>\n",
       "      <td>0.3365</td>\n",
       "    </tr>\n",
       "    <tr>\n",
       "      <th>1</th>\n",
       "      <td>ne</td>\n",
       "      <td>1</td>\n",
       "      <td>05m</td>\n",
       "      <td>Lower (90%)</td>\n",
       "      <td>0.2630</td>\n",
       "    </tr>\n",
       "    <tr>\n",
       "      <th>2</th>\n",
       "      <td>ne</td>\n",
       "      <td>1</td>\n",
       "      <td>05m</td>\n",
       "      <td>Upper (90%)</td>\n",
       "      <td>0.4225</td>\n",
       "    </tr>\n",
       "    <tr>\n",
       "      <th>3</th>\n",
       "      <td>ne</td>\n",
       "      <td>2</td>\n",
       "      <td>05m</td>\n",
       "      <td>Expected Value</td>\n",
       "      <td>0.4085</td>\n",
       "    </tr>\n",
       "    <tr>\n",
       "      <th>4</th>\n",
       "      <td>ne</td>\n",
       "      <td>2</td>\n",
       "      <td>05m</td>\n",
       "      <td>Lower (90%)</td>\n",
       "      <td>0.3190</td>\n",
       "    </tr>\n",
       "  </tbody>\n",
       "</table>\n",
       "</div>"
      ],
      "text/plain": [
       "  region TR duration       statistic   value\n",
       "0     ne  1      05m  Expected Value  0.3365\n",
       "1     ne  1      05m     Lower (90%)  0.2630\n",
       "2     ne  1      05m     Upper (90%)  0.4225\n",
       "3     ne  2      05m  Expected Value  0.4085\n",
       "4     ne  2      05m     Lower (90%)  0.3190"
      ]
     },
     "metadata": {},
     "output_type": "display_data"
    },
    {
     "name": "stdout",
     "output_type": "stream",
     "text": [
      "None\n"
     ]
    }
   ],
   "source": [
    "df = build_precip_table(geo_df, all_zips_list, noaa_url, vol_code, 10, verbose) #The integer is the number of times to attempt getting the file from ftp"
   ]
  },
  {
   "cell_type": "markdown",
   "metadata": {},
   "source": [
    "## Save the Results to an Excel Workbook:"
   ]
  },
  {
   "cell_type": "markdown",
   "metadata": {},
   "source": [
    "### Create an outputs directory:"
   ]
  },
  {
   "cell_type": "code",
   "execution_count": 27,
   "metadata": {},
   "outputs": [],
   "source": [
    "if not os.path.isdir(outputs_dir):\n",
    "    os.mkdir(outputs_dir)"
   ]
  },
  {
   "cell_type": "markdown",
   "metadata": {},
   "source": [
    "### Save Precipitation Table:"
   ]
  },
  {
   "cell_type": "code",
   "execution_count": 28,
   "metadata": {},
   "outputs": [
    {
     "name": "stdout",
     "output_type": "stream",
     "text": [
      "      Expected Value  Lower (90%)  Upper (90%)\n",
      "Tr                                            \n",
      "1            0.33650      0.26300      0.42250\n",
      "2            0.40850      0.31900      0.51350\n",
      "5            0.52650      0.40900      0.66400\n",
      "10           0.62400      0.48200      0.79125\n",
      "25           0.75800      0.56700      1.00950\n",
      "50           0.85900      0.62975      1.17225\n",
      "100          0.96475      0.68650      1.36975\n",
      "200          1.08275      0.73000      1.57950\n",
      "500          1.25200      0.81125      1.89750\n",
      "1000         1.39000      0.87950      2.15400\n",
      "      Expected Value  Lower (90%)  Upper (90%)\n",
      "Tr                                            \n",
      "1            0.47750      0.37250      0.59825\n",
      "2            0.57875      0.45175      0.72700\n",
      "5            0.74500      0.57925      0.93900\n",
      "10           0.88350      0.68300      1.12000\n",
      "25           1.07350      0.80325      1.43000\n",
      "50           1.21650      0.89150      1.65950\n",
      "100          1.36650      0.97250      1.94025\n",
      "200          1.53425      1.03375      2.23700\n",
      "500          1.77325      1.14950      2.68800\n",
      "1000         1.96875      1.24600      3.05150\n",
      "      Expected Value  Lower (90%)  Upper (90%)\n",
      "Tr                                            \n",
      "1            0.56150      0.43850      0.70400\n",
      "2            0.68125      0.53150      0.85500\n",
      "5            0.87725      0.68250      1.10575\n",
      "10           1.03950      0.80400      1.31875\n",
      "25           1.26300      0.94500      1.68225\n",
      "50           1.43175      1.04925      1.95225\n",
      "100          1.60775      1.14400      2.28300\n",
      "200          1.80475      1.21650      2.63225\n",
      "500          2.08650      1.35250      3.16275\n",
      "1000         2.31625      1.46600      3.58975\n",
      "      Expected Value  Lower (90%)  Upper (90%)\n",
      "Tr                                            \n",
      "1            0.77100      0.60250      0.96700\n",
      "2            0.93175      0.72750      1.17000\n",
      "5            1.19450      0.92900      1.50575\n",
      "10           1.41250      1.09225      1.79125\n",
      "25           1.71250      1.28200      2.28150\n",
      "50           1.93850      1.42100      2.64450\n",
      "100          2.17550      1.54875      3.09050\n",
      "200          2.44175      1.64600      3.56125\n",
      "500          2.82375      1.83050      4.28025\n",
      "1000         3.13650      1.98500      4.86075\n",
      "      Expected Value  Lower (90%)  Upper (90%)\n",
      "Tr                                            \n",
      "1            0.98075      0.76625      1.23025\n",
      "2            1.18250      0.92300      1.48475\n",
      "5            1.51225      1.17650      1.90675\n",
      "10           1.78575      1.38075      2.26525\n",
      "25           2.16225      1.61875      2.88075\n",
      "50           2.44525      1.79325      3.33650\n",
      "100          2.74275      1.95350      3.89825\n",
      "200          3.07825      2.07500      4.48925\n",
      "500          3.56050      2.30800      5.39625\n",
      "1000         3.95625      2.50375      6.13200\n",
      "      Expected Value  Lower (90%)  Upper (90%)\n",
      "Tr                                            \n",
      "1            1.28800      1.01350      1.60425\n",
      "2            1.54250      1.21250      1.92325\n",
      "5            1.95850      1.53400      2.45150\n",
      "10           2.30300      1.79325      2.90225\n",
      "25           2.77750      2.09450      3.67975\n",
      "50           3.13200      2.31450      4.25425\n",
      "100          3.50900      2.51975      4.97275\n",
      "200          3.94550      2.66975      5.71925\n",
      "500          4.58700      2.98300      6.91125\n",
      "1000         5.12275      3.25175      7.89125\n",
      "      Expected Value  Lower (90%)  Upper (90%)\n",
      "Tr                                            \n",
      "1            1.49600      1.18225      1.85575\n",
      "2            1.79000      1.41275      2.22300\n",
      "5            2.27025      1.78575      2.83075\n",
      "10           2.66825      2.08650      3.34850\n",
      "25           3.21625      2.43650      4.24850\n",
      "50           3.62500      2.69000      4.91050\n",
      "100          4.06175      2.93050      5.74625\n",
      "200          4.57500      3.10275      6.60875\n",
      "500          5.33725      3.47775      8.01350\n",
      "1000         5.97900      3.80250      9.17750\n",
      "      Expected Value  Lower (90%)  Upper (90%)\n",
      "Tr                                            \n",
      "1            1.89725      1.51075      2.33750\n",
      "2            2.27950      1.81300      2.81225\n",
      "5            2.90475      2.30175      3.59725\n",
      "10           3.42375      2.69650      4.26675\n",
      "25           4.13800      3.15675      5.43625\n",
      "50           4.66800      3.48875      6.29250\n",
      "100          5.23900      3.80800      7.38600\n",
      "200          5.92100      4.03175      8.50250\n",
      "500          6.94900      4.54250     10.37200\n",
      "1000         7.82300      4.99025     11.93375\n",
      "      Expected Value  Lower (90%)  Upper (90%)\n",
      "Tr                                            \n",
      "1            2.33850      1.87600      2.86150\n",
      "2            2.84175      2.27675      3.48125\n",
      "5            3.66375      2.92475      4.50575\n",
      "10           4.34600      3.44775      5.37950\n",
      "25           5.28475      4.05950      6.90650\n",
      "50           5.97950      4.50050      8.02325\n",
      "100          6.73250      4.92950      9.45800\n",
      "200          7.64450      5.22525     10.91125\n",
      "500          9.03475      5.92550     13.40425\n",
      "1000        10.22575      6.54325     15.50225\n",
      "      Expected Value  Lower (90%)  Upper (90%)\n",
      "Tr                                            \n",
      "1            2.74625      2.21925      3.33650\n",
      "2            3.39275      2.73850      4.12700\n",
      "5            4.45000      3.57750      5.43425\n",
      "10           5.32725      4.25650      6.54750\n",
      "25           6.53450      5.05925      8.50800\n",
      "50           7.42150      5.63350      9.93275\n",
      "100          8.39550      6.21050     11.79750\n",
      "200          9.61500      6.59425     13.64725\n",
      "500         11.52300      7.57875     16.99825\n",
      "1000        13.18500      8.46200     19.86500\n",
      "\n",
      "NOAA_Atlas_MetaData:\n"
     ]
    },
    {
     "data": {
      "text/html": [
       "<div>\n",
       "<style scoped>\n",
       "    .dataframe tbody tr th:only-of-type {\n",
       "        vertical-align: middle;\n",
       "    }\n",
       "\n",
       "    .dataframe tbody tr th {\n",
       "        vertical-align: top;\n",
       "    }\n",
       "\n",
       "    .dataframe thead th {\n",
       "        text-align: right;\n",
       "    }\n",
       "</style>\n",
       "<table border=\"1\" class=\"dataframe\">\n",
       "  <thead>\n",
       "    <tr style=\"text-align: right;\">\n",
       "      <th></th>\n",
       "      <th>Volume</th>\n",
       "      <th>Region</th>\n",
       "      <th>Percent_area</th>\n",
       "    </tr>\n",
       "    <tr>\n",
       "      <th>AOI</th>\n",
       "      <th></th>\n",
       "      <th></th>\n",
       "      <th></th>\n",
       "    </tr>\n",
       "  </thead>\n",
       "  <tbody>\n",
       "    <tr>\n",
       "      <th>name_outlet</th>\n",
       "      <td>10</td>\n",
       "      <td>2</td>\n",
       "      <td>100.0</td>\n",
       "    </tr>\n",
       "  </tbody>\n",
       "</table>\n",
       "</div>"
      ],
      "text/plain": [
       "            Volume  Region  Percent_area\n",
       "AOI                                     \n",
       "name_outlet     10       2         100.0"
      ]
     },
     "metadata": {},
     "output_type": "display_data"
    }
   ],
   "source": [
    "writer = pd.ExcelWriter(outputs_dir/'{0}_{1}_{2}_PrecipTable.xlsx'.format(Project_Area, Pluvial_Model, BCN))\n",
    "\n",
    "for i, d in enumerate(durations):\n",
    "    table = pd.pivot_table(df[df['duration'] == d], values = 'value', index=['TR'], columns=['statistic'])\n",
    "    table.index.name = 'Tr'\n",
    "    table.columns.name = None\n",
    "    table = table.sort_values(by = ['Expected Value'])\n",
    "    table.to_excel(writer, sheet_name = 'AreaDepths_{}'.format(dur_names[i]))\n",
    "    print(table)\n",
    "\n",
    "metadata = pd.DataFrame.from_dict([volume_dict])\n",
    "metadata['AOI'] = str(filter_field) + '_' + str(select_data)\n",
    "metadata = metadata.set_index('AOI')\n",
    "metadata.to_excel(writer, sheet_name = 'NOAA_Atlas_MetaData')\n",
    "print('\\nNOAA_Atlas_MetaData:')\n",
    "display(metadata)\n",
    "    \n",
    "writer.save()"
   ]
  },
  {
   "cell_type": "markdown",
   "metadata": {},
   "source": [
    "---"
   ]
  },
  {
   "cell_type": "markdown",
   "metadata": {},
   "source": [
    "## Calculate NRCS nested hyetograph function "
   ]
  },
  {
   "cell_type": "code",
   "execution_count": 29,
   "metadata": {},
   "outputs": [],
   "source": [
    "#select events to prepare nested distribution\n",
    "Return_Intervals = np.array(['2', '5', '10', '25', '50', '100', '200', '500', '1000'])  # Return intervals for calculating runoff values.\n"
   ]
  },
  {
   "cell_type": "code",
   "execution_count": 30,
   "metadata": {},
   "outputs": [],
   "source": [
    "c_df = df[df['statistic'] =='Expected Value'].set_index('TR')\n",
    "hyetos = {}\n",
    "for evnt in Return_Intervals:\n",
    "    precip_df = c_df.loc[evnt][['duration', 'value']].set_index('duration')\n",
    "    hyetos[evnt] = precip_hyetograph_nrcs(precip_df)   "
   ]
  },
  {
   "cell_type": "markdown",
   "metadata": {},
   "source": [
    "#### Plot to check behavior of 100 year recurrence interval"
   ]
  },
  {
   "cell_type": "code",
   "execution_count": 31,
   "metadata": {},
   "outputs": [],
   "source": [
    "h100 = hyetos['100'].rename(columns = {'ratio':'Cumulative Distribution','t_step':'Time','slope':'100 year Distribution'}, inplace = False)"
   ]
  },
  {
   "cell_type": "code",
   "execution_count": 32,
   "metadata": {},
   "outputs": [
    {
     "data": {
      "text/plain": [
       "<AxesSubplot:xlabel='Time (hours)', ylabel='Precipitation (inches)'>"
      ]
     },
     "execution_count": 32,
     "metadata": {},
     "output_type": "execute_result"
    },
    {
     "data": {
      "image/png": "[encoded data removed]",
      "text/plain": [
       "<Figure size 432x288 with 1 Axes>"
      ]
     },
     "metadata": {
      "needs_background": "light"
     },
     "output_type": "display_data"
    },
    {
     "data": {
      "image/png": "[encoded data removed]",
      "text/plain": [
       "<Figure size 432x288 with 1 Axes>"
      ]
     },
     "metadata": {
      "needs_background": "light"
     },
     "output_type": "display_data"
    }
   ],
   "source": [
    "p1 = h100.plot('Time','Cumulative Distribution')\n",
    "p1.legend()\n",
    "p1.set_xlabel('Time (hours)', fontsize=14)\n",
    "p1.set_ylabel('% of Total Precipitation', fontsize=14)\n",
    "\n",
    "p2 = h100.plot('Time', '100 year Distribution')\n",
    "p2.legend()\n",
    "p2.set_xlabel('Time (hours)', fontsize=14)\n",
    "p2.set_ylabel('Precipitation (inches)', fontsize=14)\n",
    "\n",
    "p1\n",
    "p2"
   ]
  },
  {
   "cell_type": "markdown",
   "metadata": {},
   "source": [
    "### Save Nested Hyetograph:"
   ]
  },
  {
   "cell_type": "code",
   "execution_count": 33,
   "metadata": {},
   "outputs": [
    {
     "name": "stdout",
     "output_type": "stream",
     "text": [
      "         ratio     slope\n",
      "time                    \n",
      "0.0   0.000000  0.000000\n",
      "0.1   0.000430  0.004299\n",
      "0.2   0.000891  0.004612\n",
      "0.3   0.001384  0.004925\n",
      "0.4   0.001908  0.005238\n",
      "...        ...       ...\n",
      "23.6  0.998092  0.005551\n",
      "23.7  0.998616  0.005238\n",
      "23.8  0.999109  0.004925\n",
      "23.9  0.999570  0.004612\n",
      "24.0  1.000000  0.004299\n",
      "\n",
      "[241 rows x 2 columns]\n",
      "         ratio     slope\n",
      "time                    \n",
      "0.0   0.000000  0.000000\n",
      "0.1   0.000574  0.005741\n",
      "0.2   0.001179  0.006045\n",
      "0.3   0.001814  0.006350\n",
      "0.4   0.002479  0.006654\n",
      "...        ...       ...\n",
      "23.6  0.997521  0.006959\n",
      "23.7  0.998186  0.006654\n",
      "23.8  0.998821  0.006350\n",
      "23.9  0.999426  0.006045\n",
      "24.0  1.000000  0.005741\n",
      "\n",
      "[241 rows x 2 columns]\n",
      "         ratio     slope\n",
      "time                    \n",
      "0.0   0.000000  0.000000\n",
      "0.1   0.000650  0.006497\n",
      "0.2   0.001329  0.006797\n",
      "0.3   0.002039  0.007097\n",
      "0.4   0.002779  0.007397\n",
      "...        ...       ...\n",
      "23.6  0.997221  0.007697\n",
      "23.7  0.997961  0.007397\n",
      "23.8  0.998671  0.007097\n",
      "23.9  0.999350  0.006797\n",
      "24.0  1.000000  0.006497\n",
      "\n",
      "[241 rows x 2 columns]\n",
      "         ratio     slope\n",
      "time                    \n",
      "0.0   0.000000  0.000000\n",
      "0.1   0.000721  0.007212\n",
      "0.2   0.001472  0.007508\n",
      "0.3   0.002252  0.007803\n",
      "0.4   0.003062  0.008099\n",
      "...        ...       ...\n",
      "23.6  0.996938  0.008395\n",
      "23.7  0.997748  0.008099\n",
      "23.8  0.998528  0.007803\n",
      "23.9  0.999279  0.007508\n",
      "24.0  1.000000  0.007212\n",
      "\n",
      "[241 rows x 2 columns]\n",
      "         ratio     slope\n",
      "time                    \n",
      "0.0   0.000000  0.000000\n",
      "0.1   0.000750  0.007498\n",
      "0.2   0.001529  0.007793\n",
      "0.3   0.002338  0.008088\n",
      "0.4   0.003176  0.008382\n",
      "...        ...       ...\n",
      "23.6  0.996824  0.008677\n",
      "23.7  0.997662  0.008382\n",
      "23.8  0.998471  0.008088\n",
      "23.9  0.999250  0.007793\n",
      "24.0  1.000000  0.007498\n",
      "\n",
      "[241 rows x 2 columns]\n",
      "         ratio     slope\n",
      "time                    \n",
      "0.0   0.000000  0.000000\n",
      "0.1   0.000789  0.007892\n",
      "0.2   0.001608  0.008184\n",
      "0.3   0.002455  0.008476\n",
      "0.4   0.003332  0.008768\n",
      "...        ...       ...\n",
      "23.6  0.996668  0.009060\n",
      "23.7  0.997545  0.008768\n",
      "23.8  0.998392  0.008476\n",
      "23.9  0.999211  0.008184\n",
      "24.0  1.000000  0.007892\n",
      "\n",
      "[241 rows x 2 columns]\n",
      "         ratio     slope\n",
      "time                    \n",
      "0.0   0.000000  0.000000\n",
      "0.1   0.000869  0.008689\n",
      "0.2   0.001766  0.008974\n",
      "0.3   0.002692  0.009258\n",
      "0.4   0.003646  0.009542\n",
      "...        ...       ...\n",
      "23.6  0.996354  0.009827\n",
      "23.7  0.997308  0.009542\n",
      "23.8  0.998234  0.009258\n",
      "23.9  0.999131  0.008974\n",
      "24.0  1.000000  0.008689\n",
      "\n",
      "[241 rows x 2 columns]\n",
      "         ratio     slope\n",
      "time                    \n",
      "0.0   0.000000  0.000000\n",
      "0.1   0.001001  0.010015\n",
      "0.2   0.002030  0.010285\n",
      "0.3   0.003086  0.010556\n",
      "0.4   0.004168  0.010826\n",
      "...        ...       ...\n",
      "23.6  0.995832  0.011097\n",
      "23.7  0.996914  0.010826\n",
      "23.8  0.997970  0.010556\n",
      "23.9  0.998999  0.010285\n",
      "24.0  1.000000  0.010015\n",
      "\n",
      "[241 rows x 2 columns]\n",
      "         ratio     slope\n",
      "time                    \n",
      "0.0   0.000000  0.000000\n",
      "0.1   0.001105  0.011054\n",
      "0.2   0.002237  0.011313\n",
      "0.3   0.003394  0.011572\n",
      "0.4   0.004577  0.011832\n",
      "...        ...       ...\n",
      "23.6  0.995423  0.012091\n",
      "23.7  0.996606  0.011832\n",
      "23.8  0.997763  0.011572\n",
      "23.9  0.998895  0.011313\n",
      "24.0  1.000000  0.011054\n",
      "\n",
      "[241 rows x 2 columns]\n"
     ]
    }
   ],
   "source": [
    "writer = pd.ExcelWriter(outputs_dir/'{0}_{1}_{2}_nrcs_PrecipTable.xlsx'.format(Project_Area, Pluvial_Model, BCN))\n",
    "\n",
    "for i, d in enumerate(c_df.index.astype(str).tolist()[1:10]):\n",
    "    table = hyetos[d][['ratio', 'slope']]\n",
    "    hyetos[d].to_excel(writer, sheet_name = f'nrcs_hye_{d}')\n",
    "    print(table)\n",
    "writer.save()"
   ]
  },
  {
   "cell_type": "markdown",
   "metadata": {},
   "source": [
    "---"
   ]
  }
 ],
 "metadata": {
  "kernelspec": {
   "display_name": "Python 3",
   "language": "python",
   "name": "python3"
  },
  "language_info": {
   "codemirror_mode": {
    "name": "ipython",
    "version": 3
   },
   "file_extension": ".py",
   "mimetype": "text/x-python",
   "name": "python",
   "nbconvert_exporter": "python",
   "pygments_lexer": "ipython3",
   "version": "3.7.6"
  },
  "nteract": {
   "version": "0.12.3"
  }
 },
 "nbformat": 4,
 "nbformat_minor": 4
}
