{
 "cells": [
  {
   "cell_type": "markdown",
   "metadata": {},
   "source": [
    "# Precipitation Frequency Table For Nested Hyetograph\n",
    "\n",
    "__Description__: Auto-retrieve [NOAA Atlas 14](https://hdsc.nws.noaa.gov/hdsc/pfds/pfds_gis.html) precipitation statistics from [FTP](ftp://hdsc.nws.noaa.gov/pub/hdsc/data/) and calcualte the area-averaged precipitation frequency table for the area of interest (AOI).\n",
    "\n",
    "__Input__: A vector polygon of the AOI and the durations of interest.\n",
    "\n",
    "__Output__: A spreadsheet with sheets for each recurrence interval hyetograph shape \n",
    "\n",
    "---"
   ]
  },
  {
   "cell_type": "markdown",
   "metadata": {},
   "source": [
    "## Load Libraries, Parameters, and Data:"
   ]
  },
  {
   "cell_type": "markdown",
   "metadata": {},
   "source": [
    "### Libraries:"
   ]
  },
  {
   "cell_type": "code",
   "execution_count": 51,
   "metadata": {},
   "outputs": [],
   "source": [
    "import sys\n",
    "sys.path.append('../../core')\n",
    "from hydromet import* #Using new hydromet_stratified"
   ]
  },
  {
   "cell_type": "markdown",
   "metadata": {},
   "source": [
    "### Parameters: "
   ]
  },
  {
   "cell_type": "markdown",
   "metadata": {},
   "source": [
    "#### Papermill (site specific):"
   ]
  },
  {
   "cell_type": "code",
   "execution_count": 52,
   "metadata": {},
   "outputs": [],
   "source": [
    "\n",
    "## Filenames and fields:\n",
    "Project_Area = 'DesPlaines'          # Project area name\n",
    "Pluvial_Model = 'P03'                # Pluvial model name\n",
    "BCN = 'D01'               # Domain/boundary condition name 071200040505 Kansas 102500170609 Nevada '160600140303'\n",
    "polygon = 'Addison_domain.shp'           # Shapefile name\n",
    "filter_field = 'Domain'          #HUC12 Attribute with in the vector polygon used for data selection\n",
    "select_data = BCN                    # Value within the filter_field used for data selection\n",
    "\n",
    "\n",
    "## Paths:\n",
    "root_dir = pl.Path(os.getcwd())\n",
    "datarepository_dir = root_dir.parent.parent/'DataRepository'\n",
    "polygon_dir = root_dir/'Inputs'/polygon\n",
    "outputs_dir = root_dir/'Outputs'\n",
    "\n",
    "\n",
    "brute_force_projection = None"
   ]
  },
  {
   "cell_type": "markdown",
   "metadata": {},
   "source": [
    "##### Convert all paths to objects:"
   ]
  },
  {
   "cell_type": "code",
   "execution_count": 53,
   "metadata": {},
   "outputs": [
    {
     "data": {
      "text/plain": [
       "WindowsPath('D:/git/new_2dble/notebooks/pluvial/Inputs/Addison_domain.shp')"
      ]
     },
     "execution_count": 53,
     "metadata": {},
     "output_type": "execute_result"
    }
   ],
   "source": [
    "datarepository_dir = pl.Path(datarepository_dir)\n",
    "polygon_dir = pl.Path(polygon_dir)\n",
    "outputs_dir = pl.Path(outputs_dir)\n",
    "polygon_dir"
   ]
  },
  {
   "cell_type": "markdown",
   "metadata": {},
   "source": [
    "#### Global (project specific):"
   ]
  },
  {
   "cell_type": "code",
   "execution_count": 54,
   "metadata": {},
   "outputs": [],
   "source": [
    "noaa_data_crs = 4326 #Based on newer version of GeoPandas\n",
    "\n",
    "durations = ['05m' , '10m' ,  '15m' , '30m' ,'60m'  ,'02h' , '03h' ,'06h', '12h','24h'] #'05m' , '10m' ,  '15m' , '30m' ,'60m'  ,'02h' , '03h' ,'06h', '12h' ,'04d'\n",
    "dur_names = ['5min','10min', '15min','30min','60min','2hr' , '3hr' ,'6hr', '12hr','24hr']  # '5min','10min', '15min','30min','60min','2hr' , '3hr' ,'6hr', '12hr',  '96hr'\n",
    "\n",
    "vol_code_filename = 'NOAA_Atlas_Volume_Codes.json'\n",
    "Temporal_area_filename = 'NOAA_Temporal_Areas_US.geojson'\n",
    "\n",
    "verbose = True"
   ]
  },
  {
   "cell_type": "markdown",
   "metadata": {},
   "source": [
    "## Read Vector Polygon:"
   ]
  },
  {
   "cell_type": "markdown",
   "metadata": {},
   "source": [
    "### Load as a geodataframe:"
   ]
  },
  {
   "cell_type": "code",
   "execution_count": 55,
   "metadata": {},
   "outputs": [
    {
     "data": {
      "text/html": [
       "<div>\n",
       "<style scoped>\n",
       "    .dataframe tbody tr th:only-of-type {\n",
       "        vertical-align: middle;\n",
       "    }\n",
       "\n",
       "    .dataframe tbody tr th {\n",
       "        vertical-align: top;\n",
       "    }\n",
       "\n",
       "    .dataframe thead th {\n",
       "        text-align: right;\n",
       "    }\n",
       "</style>\n",
       "<table border=\"1\" class=\"dataframe\">\n",
       "  <thead>\n",
       "    <tr style=\"text-align: right;\">\n",
       "      <th></th>\n",
       "      <th>Domain</th>\n",
       "      <th>Centroid_X</th>\n",
       "      <th>Centroid_Y</th>\n",
       "      <th>geometry</th>\n",
       "    </tr>\n",
       "  </thead>\n",
       "  <tbody>\n",
       "    <tr>\n",
       "      <th>0</th>\n",
       "      <td>D01</td>\n",
       "      <td>-87.911686</td>\n",
       "      <td>41.900325</td>\n",
       "      <td>POLYGON ((1085471.218 1928481.372, 1085503.920...</td>\n",
       "    </tr>\n",
       "  </tbody>\n",
       "</table>\n",
       "</div>"
      ],
      "text/plain": [
       "  Domain  Centroid_X  Centroid_Y  \\\n",
       "0    D01  -87.911686   41.900325   \n",
       "\n",
       "                                            geometry  \n",
       "0  POLYGON ((1085471.218 1928481.372, 1085503.920...  "
      ]
     },
     "execution_count": 55,
     "metadata": {},
     "output_type": "execute_result"
    }
   ],
   "source": [
    "gdf = gpd.read_file(polygon_dir)\n",
    "check_attributes(gdf)\n",
    "\n",
    "gdf.head(1)"
   ]
  },
  {
   "cell_type": "markdown",
   "metadata": {},
   "source": [
    "### Determine projection:\n",
    "- If a projection cannot be determined automatically, search for the projection using the EPSG number on the following website: https://www.spatialreference.org/, select 'Proj4', and copy and paste the string above, setting it equal to brute_force_projection. Rerun the cell with the brute_force_projection string and the cell below."
   ]
  },
  {
   "cell_type": "code",
   "execution_count": 57,
   "metadata": {},
   "outputs": [
    {
     "name": "stdout",
     "output_type": "stream",
     "text": [
      "Original Coordinate Reference System: {'proj': 'tmerc', 'lat_0': 36.66666666666666, 'lon_0': -88.33333333333333, 'k': 0.999975, 'x_0': 300000, 'y_0': 0, 'ellps': 'GRS80', 'towgs84': '0,0,0,0,0,0,0', 'units': 'us-ft', 'no_defs': True}\n",
      "Vector Layer crs = +proj=tmerc +lat_0=36.66666666666666 +lon_0=-88.33333333333333 +k=0.999975 +x_0=300000 +y_0=0 +ellps=GRS80 +towgs84=0,0,0,0,0,0,0 +units=m +no_defs=True \n"
     ]
    }
   ],
   "source": [
    "print('Original Coordinate Reference System:', gdf.crs)\n",
    "with fiona.collection(polygon_dir, 'r') as layer:\n",
    "    try:\n",
    "        vector_crs_prj = Proj(layer.crs).srs\n",
    "        if 'epsg' in vector_crs_prj: \n",
    "            raise KeyboardInterrupt\n",
    "        else: \n",
    "            print('Vector Layer crs = {}'.format(vector_crs_prj))\n",
    "        \n",
    "    except:\n",
    "        assert brute_force_projection!= None, 'Need to specify projection'\n",
    "        vector_crs_prj = brute_force_projection\n",
    "        print('Error: Setting projection as {}'.format(brute_force_projection))\n",
    "        \n",
    "vector_crs_prj =gdf.crs"
   ]
  },
  {
   "cell_type": "markdown",
   "metadata": {},
   "source": [
    "### Extract the area of interest, reproject, and plot:"
   ]
  },
  {
   "cell_type": "code",
   "execution_count": 58,
   "metadata": {},
   "outputs": [
    {
     "data": {
      "image/png": "[encoded data removed]",
      "text/plain": [
       "<Figure size 720x1008 with 1 Axes>"
      ]
     },
     "metadata": {
      "needs_background": "light"
     },
     "output_type": "display_data"
    }
   ],
   "source": [
    "gdf1 = gdf.loc[gdf[filter_field] == select_data].copy()\n",
    "\n",
    "gdf1.crs = vector_crs_prj\n",
    "    \n",
    "geo_df = gdf1.to_crs(epsg = noaa_data_crs)\n",
    "\n",
    "plot_area_of_interest(geo_df, select_data, filter_field)"
   ]
  },
  {
   "cell_type": "markdown",
   "metadata": {},
   "source": [
    "## Identify the NOAA Atlas 14 Volume Code:"
   ]
  },
  {
   "cell_type": "markdown",
   "metadata": {},
   "source": [
    "### Determine the volume and region numbers:"
   ]
  },
  {
   "cell_type": "code",
   "execution_count": 59,
   "metadata": {},
   "outputs": [
    {
     "name": "stdout",
     "output_type": "stream",
     "text": [
      "Volume           2\n",
      "Region           1\n",
      "Percent_area     100.0\n"
     ]
    },
    {
     "data": {
      "image/png": "[encoded data removed]",
      "text/plain": [
       "<Figure size 720x1008 with 1 Axes>"
      ]
     },
     "metadata": {
      "needs_background": "light"
     },
     "output_type": "display_data"
    }
   ],
   "source": [
    "volume_dict, intersection_gdf = intersect_temporal_areas(geo_df, datarepository_dir, Temporal_area_filename, alldata=True)\n",
    "\n",
    "plot_aoi_noaa_intersection(intersection_gdf, select_data)\n",
    "\n",
    "volume = volume_dict['Volume']"
   ]
  },
  {
   "cell_type": "markdown",
   "metadata": {},
   "source": [
    "### Load Atlas 14 volume code from json:"
   ]
  },
  {
   "cell_type": "code",
   "execution_count": 60,
   "metadata": {},
   "outputs": [
    {
     "name": "stdout",
     "output_type": "stream",
     "text": [
      "NOAA Atlas 14 Volume Code: orb\n"
     ]
    }
   ],
   "source": [
    "vol_code = get_volume_code(datarepository_dir, vol_code_filename, volume)"
   ]
  },
  {
   "cell_type": "markdown",
   "metadata": {},
   "source": [
    "## Retrieve the Precipitation Frequency Data:"
   ]
  },
  {
   "cell_type": "markdown",
   "metadata": {},
   "source": [
    "### Get list of zip files:"
   ]
  },
  {
   "cell_type": "code",
   "execution_count": 61,
   "metadata": {},
   "outputs": [
    {
     "name": "stdout",
     "output_type": "stream",
     "text": [
      "10 files found for 05m\n",
      "10 files found for 10m\n",
      "10 files found for 15m\n",
      "10 files found for 30m\n",
      "10 files found for 60m\n",
      "10 files found for 02h\n",
      "10 files found for 03h\n",
      "10 files found for 06h\n",
      "10 files found for 12h\n",
      "10 files found for 24h\n"
     ]
    }
   ],
   "source": [
    "noaa_url = 'https://hdsc.nws.noaa.gov/pub/hdsc/data/{}/'.format(vol_code)\n",
    "\n",
    "req = urllib.request.Request(noaa_url)\n",
    "data = urllib.request.urlopen(req).read().decode().split()\n",
    "\n",
    "copy_zips = []\n",
    "for duration in durations:\n",
    "    zips = [d for d in data if ('.zip' in d) and ('{}'.format(duration) in d) and ('ams' not in d) and ('l.zip' not in d) and ('u.zip' not in d)]\n",
    "    copy_zips.append(zips)\n",
    "    if verbose: print('{} files found for {}'.format(len(zips), duration))\n",
    "\n",
    "all_zips_list = list(np.array(copy_zips).flat)\n",
    "\n",
    "#Added by Mark Bartlett \n",
    "#Parse out the file name by using split functions\n",
    "for i, zip_name in enumerate(all_zips_list):\n",
    "    all_zips_list[i]= zip_name.split(\"\\\"\", 1)[1].split(\"\\\"\", 1)[0]"
   ]
  },
  {
   "cell_type": "markdown",
   "metadata": {},
   "source": [
    "### Iterate through zip files and build a table:"
   ]
  },
  {
   "cell_type": "code",
   "execution_count": 62,
   "metadata": {},
   "outputs": [
    {
     "name": "stdout",
     "output_type": "stream",
     "text": [
      "0 orb1yr05ma.zip\n",
      "1 orb2yr05ma.zip\n",
      "2 orb5yr05ma.zip\n",
      "3 orb10yr05ma.zip\n",
      "4 orb25yr05ma.zip\n",
      "5 orb50yr05ma.zip\n",
      "6 orb100yr05ma.zip\n",
      "7 orb200yr05ma.zip\n",
      "8 orb500yr05ma.zip\n",
      "9 orb1000yr05ma.zip\n",
      "10 orb1yr10ma.zip\n",
      "11 orb2yr10ma.zip\n",
      "12 orb5yr10ma.zip\n",
      "13 orb10yr10ma.zip\n",
      "14 orb25yr10ma.zip\n",
      "15 orb50yr10ma.zip\n",
      "16 orb100yr10ma.zip\n",
      "17 orb200yr10ma.zip\n",
      "18 orb500yr10ma.zip\n",
      "19 orb1000yr10ma.zip\n",
      "20 orb1yr15ma.zip\n",
      "21 orb2yr15ma.zip\n",
      "22 orb5yr15ma.zip\n",
      "23 orb10yr15ma.zip\n",
      "24 orb25yr15ma.zip\n",
      "25 orb50yr15ma.zip\n",
      "26 orb100yr15ma.zip\n",
      "27 orb200yr15ma.zip\n",
      "28 orb500yr15ma.zip\n",
      "29 orb1000yr15ma.zip\n",
      "30 orb1yr30ma.zip\n",
      "31 orb2yr30ma.zip\n",
      "32 orb5yr30ma.zip\n",
      "33 orb10yr30ma.zip\n",
      "34 orb25yr30ma.zip\n",
      "35 orb50yr30ma.zip\n",
      "36 orb100yr30ma.zip\n",
      "37 orb200yr30ma.zip\n",
      "38 orb500yr30ma.zip\n",
      "39 orb1000yr30ma.zip\n",
      "40 orb1yr60ma.zip\n",
      "41 orb2yr60ma.zip\n",
      "42 orb5yr60ma.zip\n",
      "43 orb10yr60ma.zip\n",
      "44 orb25yr60ma.zip\n",
      "45 orb50yr60ma.zip\n",
      "46 orb100yr60ma.zip\n",
      "47 orb200yr60ma.zip\n",
      "48 orb500yr60ma.zip\n",
      "49 orb1000yr60ma.zip\n",
      "50 orb1yr02ha.zip\n",
      "51 orb2yr02ha.zip\n",
      "52 orb5yr02ha.zip\n",
      "53 orb10yr02ha.zip\n",
      "54 orb25yr02ha.zip\n",
      "55 orb50yr02ha.zip\n",
      "56 orb100yr02ha.zip\n",
      "57 orb200yr02ha.zip\n",
      "58 orb500yr02ha.zip\n",
      "59 orb1000yr02ha.zip\n",
      "60 orb1yr03ha.zip\n",
      "61 orb2yr03ha.zip\n",
      "62 orb5yr03ha.zip\n",
      "63 orb10yr03ha.zip\n",
      "64 orb25yr03ha.zip\n",
      "65 orb50yr03ha.zip\n",
      "66 orb100yr03ha.zip\n",
      "67 orb200yr03ha.zip\n",
      "68 orb500yr03ha.zip\n",
      "69 orb1000yr03ha.zip\n",
      "70 orb1yr06ha.zip\n",
      "71 orb2yr06ha.zip\n",
      "72 orb5yr06ha.zip\n",
      "73 orb10yr06ha.zip\n",
      "74 orb25yr06ha.zip\n",
      "75 orb50yr06ha.zip\n",
      "76 orb100yr06ha.zip\n",
      "77 orb200yr06ha.zip\n",
      "78 orb500yr06ha.zip\n",
      "79 orb1000yr06ha.zip\n",
      "80 orb1yr12ha.zip\n",
      "81 orb2yr12ha.zip\n",
      "82 orb5yr12ha.zip\n",
      "83 orb10yr12ha.zip\n",
      "84 orb25yr12ha.zip\n",
      "85 orb50yr12ha.zip\n",
      "86 orb100yr12ha.zip\n",
      "87 orb200yr12ha.zip\n",
      "88 orb500yr12ha.zip\n",
      "89 orb1000yr12ha.zip\n",
      "90 orb1yr24ha.zip\n",
      "91 orb2yr24ha.zip\n",
      "92 orb5yr24ha.zip\n",
      "93 orb10yr24ha.zip\n",
      "94 orb25yr24ha.zip\n",
      "95 orb50yr24ha.zip\n",
      "96 orb100yr24ha.zip\n",
      "97 orb200yr24ha.zip\n",
      "98 orb500yr24ha.zip\n",
      "99 orb1000yr24ha.zip\n",
      "241 Seconds\n"
     ]
    },
    {
     "data": {
      "text/html": [
       "<div>\n",
       "<style scoped>\n",
       "    .dataframe tbody tr th:only-of-type {\n",
       "        vertical-align: middle;\n",
       "    }\n",
       "\n",
       "    .dataframe tbody tr th {\n",
       "        vertical-align: top;\n",
       "    }\n",
       "\n",
       "    .dataframe thead th {\n",
       "        text-align: right;\n",
       "    }\n",
       "</style>\n",
       "<table border=\"1\" class=\"dataframe\">\n",
       "  <thead>\n",
       "    <tr style=\"text-align: right;\">\n",
       "      <th></th>\n",
       "      <th>region</th>\n",
       "      <th>TR</th>\n",
       "      <th>duration</th>\n",
       "      <th>statistic</th>\n",
       "      <th>value</th>\n",
       "    </tr>\n",
       "  </thead>\n",
       "  <tbody>\n",
       "    <tr>\n",
       "      <th>0</th>\n",
       "      <td>orb</td>\n",
       "      <td>1</td>\n",
       "      <td>05m</td>\n",
       "      <td>Expected Value</td>\n",
       "      <td>0.387</td>\n",
       "    </tr>\n",
       "    <tr>\n",
       "      <th>1</th>\n",
       "      <td>orb</td>\n",
       "      <td>2</td>\n",
       "      <td>05m</td>\n",
       "      <td>Expected Value</td>\n",
       "      <td>0.454</td>\n",
       "    </tr>\n",
       "    <tr>\n",
       "      <th>2</th>\n",
       "      <td>orb</td>\n",
       "      <td>5</td>\n",
       "      <td>05m</td>\n",
       "      <td>Expected Value</td>\n",
       "      <td>0.535</td>\n",
       "    </tr>\n",
       "    <tr>\n",
       "      <th>3</th>\n",
       "      <td>orb</td>\n",
       "      <td>10</td>\n",
       "      <td>05m</td>\n",
       "      <td>Expected Value</td>\n",
       "      <td>0.611</td>\n",
       "    </tr>\n",
       "    <tr>\n",
       "      <th>4</th>\n",
       "      <td>orb</td>\n",
       "      <td>25</td>\n",
       "      <td>05m</td>\n",
       "      <td>Expected Value</td>\n",
       "      <td>0.701</td>\n",
       "    </tr>\n",
       "  </tbody>\n",
       "</table>\n",
       "</div>"
      ],
      "text/plain": [
       "  region  TR duration       statistic  value\n",
       "0    orb   1      05m  Expected Value  0.387\n",
       "1    orb   2      05m  Expected Value  0.454\n",
       "2    orb   5      05m  Expected Value  0.535\n",
       "3    orb  10      05m  Expected Value  0.611\n",
       "4    orb  25      05m  Expected Value  0.701"
      ]
     },
     "metadata": {},
     "output_type": "display_data"
    },
    {
     "name": "stdout",
     "output_type": "stream",
     "text": [
      "None\n"
     ]
    }
   ],
   "source": [
    "df = build_precip_table(geo_df, all_zips_list, noaa_url, vol_code, 10, verbose) #The integer is the number of times to attempt getting the file from ftp"
   ]
  },
  {
   "cell_type": "code",
   "execution_count": 63,
   "metadata": {},
   "outputs": [
    {
     "data": {
      "text/html": [
       "<div>\n",
       "<style scoped>\n",
       "    .dataframe tbody tr th:only-of-type {\n",
       "        vertical-align: middle;\n",
       "    }\n",
       "\n",
       "    .dataframe tbody tr th {\n",
       "        vertical-align: top;\n",
       "    }\n",
       "\n",
       "    .dataframe thead th {\n",
       "        text-align: right;\n",
       "    }\n",
       "</style>\n",
       "<table border=\"1\" class=\"dataframe\">\n",
       "  <thead>\n",
       "    <tr style=\"text-align: right;\">\n",
       "      <th></th>\n",
       "      <th>region</th>\n",
       "      <th>TR</th>\n",
       "      <th>duration</th>\n",
       "      <th>statistic</th>\n",
       "      <th>value</th>\n",
       "    </tr>\n",
       "  </thead>\n",
       "  <tbody>\n",
       "    <tr>\n",
       "      <th>0</th>\n",
       "      <td>orb</td>\n",
       "      <td>1</td>\n",
       "      <td>05m</td>\n",
       "      <td>Expected Value</td>\n",
       "      <td>0.387</td>\n",
       "    </tr>\n",
       "    <tr>\n",
       "      <th>1</th>\n",
       "      <td>orb</td>\n",
       "      <td>2</td>\n",
       "      <td>05m</td>\n",
       "      <td>Expected Value</td>\n",
       "      <td>0.454</td>\n",
       "    </tr>\n",
       "    <tr>\n",
       "      <th>2</th>\n",
       "      <td>orb</td>\n",
       "      <td>5</td>\n",
       "      <td>05m</td>\n",
       "      <td>Expected Value</td>\n",
       "      <td>0.535</td>\n",
       "    </tr>\n",
       "    <tr>\n",
       "      <th>3</th>\n",
       "      <td>orb</td>\n",
       "      <td>10</td>\n",
       "      <td>05m</td>\n",
       "      <td>Expected Value</td>\n",
       "      <td>0.611</td>\n",
       "    </tr>\n",
       "    <tr>\n",
       "      <th>4</th>\n",
       "      <td>orb</td>\n",
       "      <td>25</td>\n",
       "      <td>05m</td>\n",
       "      <td>Expected Value</td>\n",
       "      <td>0.701</td>\n",
       "    </tr>\n",
       "    <tr>\n",
       "      <th>5</th>\n",
       "      <td>orb</td>\n",
       "      <td>50</td>\n",
       "      <td>05m</td>\n",
       "      <td>Expected Value</td>\n",
       "      <td>0.779</td>\n",
       "    </tr>\n",
       "    <tr>\n",
       "      <th>6</th>\n",
       "      <td>orb</td>\n",
       "      <td>100</td>\n",
       "      <td>05m</td>\n",
       "      <td>Expected Value</td>\n",
       "      <td>0.853</td>\n",
       "    </tr>\n",
       "    <tr>\n",
       "      <th>7</th>\n",
       "      <td>orb</td>\n",
       "      <td>200</td>\n",
       "      <td>05m</td>\n",
       "      <td>Expected Value</td>\n",
       "      <td>0.933</td>\n",
       "    </tr>\n",
       "    <tr>\n",
       "      <th>8</th>\n",
       "      <td>orb</td>\n",
       "      <td>500</td>\n",
       "      <td>05m</td>\n",
       "      <td>Expected Value</td>\n",
       "      <td>1.040</td>\n",
       "    </tr>\n",
       "    <tr>\n",
       "      <th>9</th>\n",
       "      <td>orb</td>\n",
       "      <td>1000</td>\n",
       "      <td>05m</td>\n",
       "      <td>Expected Value</td>\n",
       "      <td>1.135</td>\n",
       "    </tr>\n",
       "    <tr>\n",
       "      <th>10</th>\n",
       "      <td>orb</td>\n",
       "      <td>1</td>\n",
       "      <td>10m</td>\n",
       "      <td>Expected Value</td>\n",
       "      <td>0.601</td>\n",
       "    </tr>\n",
       "    <tr>\n",
       "      <th>11</th>\n",
       "      <td>orb</td>\n",
       "      <td>2</td>\n",
       "      <td>10m</td>\n",
       "      <td>Expected Value</td>\n",
       "      <td>0.709</td>\n",
       "    </tr>\n",
       "    <tr>\n",
       "      <th>12</th>\n",
       "      <td>orb</td>\n",
       "      <td>5</td>\n",
       "      <td>10m</td>\n",
       "      <td>Expected Value</td>\n",
       "      <td>0.831</td>\n",
       "    </tr>\n",
       "    <tr>\n",
       "      <th>13</th>\n",
       "      <td>orb</td>\n",
       "      <td>10</td>\n",
       "      <td>10m</td>\n",
       "      <td>Expected Value</td>\n",
       "      <td>0.943</td>\n",
       "    </tr>\n",
       "    <tr>\n",
       "      <th>14</th>\n",
       "      <td>orb</td>\n",
       "      <td>25</td>\n",
       "      <td>10m</td>\n",
       "      <td>Expected Value</td>\n",
       "      <td>1.071</td>\n",
       "    </tr>\n",
       "    <tr>\n",
       "      <th>15</th>\n",
       "      <td>orb</td>\n",
       "      <td>50</td>\n",
       "      <td>10m</td>\n",
       "      <td>Expected Value</td>\n",
       "      <td>1.181</td>\n",
       "    </tr>\n",
       "    <tr>\n",
       "      <th>16</th>\n",
       "      <td>orb</td>\n",
       "      <td>100</td>\n",
       "      <td>10m</td>\n",
       "      <td>Expected Value</td>\n",
       "      <td>1.284</td>\n",
       "    </tr>\n",
       "    <tr>\n",
       "      <th>17</th>\n",
       "      <td>orb</td>\n",
       "      <td>200</td>\n",
       "      <td>10m</td>\n",
       "      <td>Expected Value</td>\n",
       "      <td>1.393</td>\n",
       "    </tr>\n",
       "    <tr>\n",
       "      <th>18</th>\n",
       "      <td>orb</td>\n",
       "      <td>500</td>\n",
       "      <td>10m</td>\n",
       "      <td>Expected Value</td>\n",
       "      <td>1.529</td>\n",
       "    </tr>\n",
       "    <tr>\n",
       "      <th>19</th>\n",
       "      <td>orb</td>\n",
       "      <td>1000</td>\n",
       "      <td>10m</td>\n",
       "      <td>Expected Value</td>\n",
       "      <td>1.653</td>\n",
       "    </tr>\n",
       "  </tbody>\n",
       "</table>\n",
       "</div>"
      ],
      "text/plain": [
       "   region    TR duration       statistic  value\n",
       "0     orb     1      05m  Expected Value  0.387\n",
       "1     orb     2      05m  Expected Value  0.454\n",
       "2     orb     5      05m  Expected Value  0.535\n",
       "3     orb    10      05m  Expected Value  0.611\n",
       "4     orb    25      05m  Expected Value  0.701\n",
       "5     orb    50      05m  Expected Value  0.779\n",
       "6     orb   100      05m  Expected Value  0.853\n",
       "7     orb   200      05m  Expected Value  0.933\n",
       "8     orb   500      05m  Expected Value  1.040\n",
       "9     orb  1000      05m  Expected Value  1.135\n",
       "10    orb     1      10m  Expected Value  0.601\n",
       "11    orb     2      10m  Expected Value  0.709\n",
       "12    orb     5      10m  Expected Value  0.831\n",
       "13    orb    10      10m  Expected Value  0.943\n",
       "14    orb    25      10m  Expected Value  1.071\n",
       "15    orb    50      10m  Expected Value  1.181\n",
       "16    orb   100      10m  Expected Value  1.284\n",
       "17    orb   200      10m  Expected Value  1.393\n",
       "18    orb   500      10m  Expected Value  1.529\n",
       "19    orb  1000      10m  Expected Value  1.653"
      ]
     },
     "execution_count": 63,
     "metadata": {},
     "output_type": "execute_result"
    }
   ],
   "source": [
    "df.head(20)"
   ]
  },
  {
   "cell_type": "code",
   "execution_count": 64,
   "metadata": {},
   "outputs": [
    {
     "data": {
      "text/html": [
       "<div>\n",
       "<style scoped>\n",
       "    .dataframe tbody tr th:only-of-type {\n",
       "        vertical-align: middle;\n",
       "    }\n",
       "\n",
       "    .dataframe tbody tr th {\n",
       "        vertical-align: top;\n",
       "    }\n",
       "\n",
       "    .dataframe thead th {\n",
       "        text-align: right;\n",
       "    }\n",
       "</style>\n",
       "<table border=\"1\" class=\"dataframe\">\n",
       "  <thead>\n",
       "    <tr style=\"text-align: right;\">\n",
       "      <th></th>\n",
       "      <th>value</th>\n",
       "    </tr>\n",
       "    <tr>\n",
       "      <th>duration</th>\n",
       "      <th></th>\n",
       "    </tr>\n",
       "  </thead>\n",
       "  <tbody>\n",
       "    <tr>\n",
       "      <th>05m</th>\n",
       "      <td>1.135</td>\n",
       "    </tr>\n",
       "    <tr>\n",
       "      <th>10m</th>\n",
       "      <td>1.653</td>\n",
       "    </tr>\n",
       "    <tr>\n",
       "      <th>15m</th>\n",
       "      <td>2.066</td>\n",
       "    </tr>\n",
       "    <tr>\n",
       "      <th>30m</th>\n",
       "      <td>3.096</td>\n",
       "    </tr>\n",
       "    <tr>\n",
       "      <th>60m</th>\n",
       "      <td>4.349</td>\n",
       "    </tr>\n",
       "    <tr>\n",
       "      <th>02h</th>\n",
       "      <td>5.352</td>\n",
       "    </tr>\n",
       "    <tr>\n",
       "      <th>03h</th>\n",
       "      <td>5.943</td>\n",
       "    </tr>\n",
       "    <tr>\n",
       "      <th>06h</th>\n",
       "      <td>8.509</td>\n",
       "    </tr>\n",
       "    <tr>\n",
       "      <th>12h</th>\n",
       "      <td>9.420</td>\n",
       "    </tr>\n",
       "    <tr>\n",
       "      <th>24h</th>\n",
       "      <td>11.239</td>\n",
       "    </tr>\n",
       "  </tbody>\n",
       "</table>\n",
       "</div>"
      ],
      "text/plain": [
       "           value\n",
       "duration        \n",
       "05m        1.135\n",
       "10m        1.653\n",
       "15m        2.066\n",
       "30m        3.096\n",
       "60m        4.349\n",
       "02h        5.352\n",
       "03h        5.943\n",
       "06h        8.509\n",
       "12h        9.420\n",
       "24h       11.239"
      ]
     },
     "execution_count": 64,
     "metadata": {},
     "output_type": "execute_result"
    }
   ],
   "source": [
    "##for testing purposes\n",
    "c_df.loc[evnt][['duration','value']].set_index('duration')"
   ]
  },
  {
   "cell_type": "markdown",
   "metadata": {},
   "source": [
    "## Save the Results to an Excel Workbook:"
   ]
  },
  {
   "cell_type": "markdown",
   "metadata": {},
   "source": [
    "### Create an outputs directory:"
   ]
  },
  {
   "cell_type": "code",
   "execution_count": null,
   "metadata": {},
   "outputs": [],
   "source": [
    "if not os.path.isdir(outputs_dir):\n",
    "    os.mkdir(outputs_dir)"
   ]
  },
  {
   "cell_type": "markdown",
   "metadata": {},
   "source": [
    "### Save:"
   ]
  },
  {
   "cell_type": "markdown",
   "metadata": {},
   "source": [
    "---"
   ]
  },
  {
   "cell_type": "markdown",
   "metadata": {},
   "source": [
    "### Put reccurrence intervals through NRCS nested hyetograph function "
   ]
  },
  {
   "cell_type": "code",
   "execution_count": 35,
   "metadata": {},
   "outputs": [],
   "source": [
    "c_df = df[df['statistic'] =='Expected Value'].set_index('TR')\n",
    "hyetos = {}\n",
    "events_hyeto = ['2','5','10','25','50','100','200','500','1000']\n",
    "for evnt in events_hyeto:\n",
    "    precip_df = c_df.loc[evnt][['duration','value']].set_index('duration')\n",
    "    hyetos[evnt] = precip_hyetograph_nrcs(precip_df)   "
   ]
  },
  {
   "cell_type": "markdown",
   "metadata": {},
   "source": [
    "#### Plot to check"
   ]
  },
  {
   "cell_type": "code",
   "execution_count": 46,
   "metadata": {},
   "outputs": [
    {
     "data": {
      "text/html": [
       "<div>\n",
       "<style scoped>\n",
       "    .dataframe tbody tr th:only-of-type {\n",
       "        vertical-align: middle;\n",
       "    }\n",
       "\n",
       "    .dataframe tbody tr th {\n",
       "        vertical-align: top;\n",
       "    }\n",
       "\n",
       "    .dataframe thead th {\n",
       "        text-align: right;\n",
       "    }\n",
       "</style>\n",
       "<table border=\"1\" class=\"dataframe\">\n",
       "  <thead>\n",
       "    <tr style=\"text-align: right;\">\n",
       "      <th></th>\n",
       "      <th>ratio</th>\n",
       "      <th>slope</th>\n",
       "      <th>t_step</th>\n",
       "    </tr>\n",
       "    <tr>\n",
       "      <th>time</th>\n",
       "      <th></th>\n",
       "      <th></th>\n",
       "      <th></th>\n",
       "    </tr>\n",
       "  </thead>\n",
       "  <tbody>\n",
       "    <tr>\n",
       "      <th>0</th>\n",
       "      <td>0.000000</td>\n",
       "      <td>NaN</td>\n",
       "      <td>0.0</td>\n",
       "    </tr>\n",
       "    <tr>\n",
       "      <th>1</th>\n",
       "      <td>0.001115</td>\n",
       "      <td>0.011153</td>\n",
       "      <td>0.1</td>\n",
       "    </tr>\n",
       "    <tr>\n",
       "      <th>2</th>\n",
       "      <td>0.002236</td>\n",
       "      <td>0.011206</td>\n",
       "      <td>0.2</td>\n",
       "    </tr>\n",
       "    <tr>\n",
       "      <th>3</th>\n",
       "      <td>0.003362</td>\n",
       "      <td>0.011258</td>\n",
       "      <td>0.3</td>\n",
       "    </tr>\n",
       "    <tr>\n",
       "      <th>4</th>\n",
       "      <td>0.004493</td>\n",
       "      <td>0.011310</td>\n",
       "      <td>0.4</td>\n",
       "    </tr>\n",
       "    <tr>\n",
       "      <th>...</th>\n",
       "      <td>...</td>\n",
       "      <td>...</td>\n",
       "      <td>...</td>\n",
       "    </tr>\n",
       "    <tr>\n",
       "      <th>236</th>\n",
       "      <td>0.995507</td>\n",
       "      <td>0.011363</td>\n",
       "      <td>23.6</td>\n",
       "    </tr>\n",
       "    <tr>\n",
       "      <th>237</th>\n",
       "      <td>0.996638</td>\n",
       "      <td>0.011310</td>\n",
       "      <td>23.7</td>\n",
       "    </tr>\n",
       "    <tr>\n",
       "      <th>238</th>\n",
       "      <td>0.997764</td>\n",
       "      <td>0.011258</td>\n",
       "      <td>23.8</td>\n",
       "    </tr>\n",
       "    <tr>\n",
       "      <th>239</th>\n",
       "      <td>0.998885</td>\n",
       "      <td>0.011206</td>\n",
       "      <td>23.9</td>\n",
       "    </tr>\n",
       "    <tr>\n",
       "      <th>240</th>\n",
       "      <td>1.000000</td>\n",
       "      <td>0.011153</td>\n",
       "      <td>24.0</td>\n",
       "    </tr>\n",
       "  </tbody>\n",
       "</table>\n",
       "<p>241 rows × 3 columns</p>\n",
       "</div>"
      ],
      "text/plain": [
       "         ratio     slope  t_step\n",
       "time                            \n",
       "0     0.000000       NaN     0.0\n",
       "1     0.001115  0.011153     0.1\n",
       "2     0.002236  0.011206     0.2\n",
       "3     0.003362  0.011258     0.3\n",
       "4     0.004493  0.011310     0.4\n",
       "...        ...       ...     ...\n",
       "236   0.995507  0.011363    23.6\n",
       "237   0.996638  0.011310    23.7\n",
       "238   0.997764  0.011258    23.8\n",
       "239   0.998885  0.011206    23.9\n",
       "240   1.000000  0.011153    24.0\n",
       "\n",
       "[241 rows x 3 columns]"
      ]
     },
     "execution_count": 46,
     "metadata": {},
     "output_type": "execute_result"
    }
   ],
   "source": [
    "hyetos['100']"
   ]
  },
  {
   "cell_type": "code",
   "execution_count": 44,
   "metadata": {},
   "outputs": [
    {
     "data": {
      "text/plain": [
       "<matplotlib.axes._subplots.AxesSubplot at 0x1a83ed5d0b8>"
      ]
     },
     "execution_count": 44,
     "metadata": {},
     "output_type": "execute_result"
    },
    {
     "data": {
      "image/png": "[encoded data removed]",
      "text/plain": [
       "<Figure size 432x288 with 1 Axes>"
      ]
     },
     "metadata": {
      "needs_background": "light"
     },
     "output_type": "display_data"
    },
    {
     "data": {
      "image/png": "[encoded data removed]",
      "text/plain": [
       "<Figure size 432x288 with 1 Axes>"
      ]
     },
     "metadata": {
      "needs_background": "light"
     },
     "output_type": "display_data"
    }
   ],
   "source": [
    "hyetos['100'].plot('t_step','ratio')\n",
    "hyetos['100'].plot('t_step','slope')"
   ]
  },
  {
   "cell_type": "markdown",
   "metadata": {},
   "source": [
    "#### Save distributions for incorporation into stratified table"
   ]
  },
  {
   "cell_type": "code",
   "execution_count": 50,
   "metadata": {},
   "outputs": [
    {
     "name": "stdout",
     "output_type": "stream",
     "text": [
      "         ratio     slope\n",
      "Tr                      \n",
      "0.0   0.000000       NaN\n",
      "0.1   0.000806  0.008063\n",
      "0.2   0.001627  0.008203\n",
      "0.3   0.002461  0.008344\n",
      "0.4   0.003309  0.008484\n",
      "...        ...       ...\n",
      "23.6  0.996691  0.008625\n",
      "23.7  0.997539  0.008484\n",
      "23.8  0.998373  0.008344\n",
      "23.9  0.999194  0.008203\n",
      "24.0  1.000000  0.008063\n",
      "\n",
      "[241 rows x 2 columns]\n",
      "         ratio     slope\n",
      "Tr                      \n",
      "0.0   0.000000       NaN\n",
      "0.1   0.000806  0.008063\n",
      "0.2   0.001627  0.008203\n",
      "0.3   0.002461  0.008344\n",
      "0.4   0.003309  0.008484\n",
      "...        ...       ...\n",
      "23.6  0.996691  0.008625\n",
      "23.7  0.997539  0.008484\n",
      "23.8  0.998373  0.008344\n",
      "23.9  0.999194  0.008203\n",
      "24.0  1.000000  0.008063\n",
      "\n",
      "[241 rows x 2 columns]\n",
      "         ratio     slope\n",
      "Tr                      \n",
      "0.0   0.000000       NaN\n",
      "0.1   0.000806  0.008063\n",
      "0.2   0.001627  0.008203\n",
      "0.3   0.002461  0.008344\n",
      "0.4   0.003309  0.008484\n",
      "...        ...       ...\n",
      "23.6  0.996691  0.008625\n",
      "23.7  0.997539  0.008484\n",
      "23.8  0.998373  0.008344\n",
      "23.9  0.999194  0.008203\n",
      "24.0  1.000000  0.008063\n",
      "\n",
      "[241 rows x 2 columns]\n",
      "         ratio     slope\n",
      "Tr                      \n",
      "0.0   0.000000       NaN\n",
      "0.1   0.000806  0.008063\n",
      "0.2   0.001627  0.008203\n",
      "0.3   0.002461  0.008344\n",
      "0.4   0.003309  0.008484\n",
      "...        ...       ...\n",
      "23.6  0.996691  0.008625\n",
      "23.7  0.997539  0.008484\n",
      "23.8  0.998373  0.008344\n",
      "23.9  0.999194  0.008203\n",
      "24.0  1.000000  0.008063\n",
      "\n",
      "[241 rows x 2 columns]\n",
      "         ratio     slope\n",
      "Tr                      \n",
      "0.0   0.000000       NaN\n",
      "0.1   0.000806  0.008063\n",
      "0.2   0.001627  0.008203\n",
      "0.3   0.002461  0.008344\n",
      "0.4   0.003309  0.008484\n",
      "...        ...       ...\n",
      "23.6  0.996691  0.008625\n",
      "23.7  0.997539  0.008484\n",
      "23.8  0.998373  0.008344\n",
      "23.9  0.999194  0.008203\n",
      "24.0  1.000000  0.008063\n",
      "\n",
      "[241 rows x 2 columns]\n",
      "         ratio     slope\n",
      "Tr                      \n",
      "0.0   0.000000       NaN\n",
      "0.1   0.000806  0.008063\n",
      "0.2   0.001627  0.008203\n",
      "0.3   0.002461  0.008344\n",
      "0.4   0.003309  0.008484\n",
      "...        ...       ...\n",
      "23.6  0.996691  0.008625\n",
      "23.7  0.997539  0.008484\n",
      "23.8  0.998373  0.008344\n",
      "23.9  0.999194  0.008203\n",
      "24.0  1.000000  0.008063\n",
      "\n",
      "[241 rows x 2 columns]\n",
      "         ratio     slope\n",
      "Tr                      \n",
      "0.0   0.000000       NaN\n",
      "0.1   0.000806  0.008063\n",
      "0.2   0.001627  0.008203\n",
      "0.3   0.002461  0.008344\n",
      "0.4   0.003309  0.008484\n",
      "...        ...       ...\n",
      "23.6  0.996691  0.008625\n",
      "23.7  0.997539  0.008484\n",
      "23.8  0.998373  0.008344\n",
      "23.9  0.999194  0.008203\n",
      "24.0  1.000000  0.008063\n",
      "\n",
      "[241 rows x 2 columns]\n",
      "         ratio     slope\n",
      "Tr                      \n",
      "0.0   0.000000       NaN\n",
      "0.1   0.000806  0.008063\n",
      "0.2   0.001627  0.008203\n",
      "0.3   0.002461  0.008344\n",
      "0.4   0.003309  0.008484\n",
      "...        ...       ...\n",
      "23.6  0.996691  0.008625\n",
      "23.7  0.997539  0.008484\n",
      "23.8  0.998373  0.008344\n",
      "23.9  0.999194  0.008203\n",
      "24.0  1.000000  0.008063\n",
      "\n",
      "[241 rows x 2 columns]\n",
      "         ratio     slope\n",
      "Tr                      \n",
      "0.0   0.000000       NaN\n",
      "0.1   0.000806  0.008063\n",
      "0.2   0.001627  0.008203\n",
      "0.3   0.002461  0.008344\n",
      "0.4   0.003309  0.008484\n",
      "...        ...       ...\n",
      "23.6  0.996691  0.008625\n",
      "23.7  0.997539  0.008484\n",
      "23.8  0.998373  0.008344\n",
      "23.9  0.999194  0.008203\n",
      "24.0  1.000000  0.008063\n",
      "\n",
      "[241 rows x 2 columns]\n"
     ]
    }
   ],
   "source": [
    "writer = pd.ExcelWriter(outputs_dir/'{0}_{1}_{2}__nrcs_PrecipTable.xlsx'.format(Project_Area, Pluvial_Model, BCN))\n",
    "\n",
    "for i, d in enumerate(events_hyeto):\n",
    "    hyetos[d].to_excel(writer, sheet_name = 'nrcs_hye_{}'.format(events_hyeto[i]))\n",
    "    print(table)\n",
    "\n",
    "writer.save()"
   ]
  }
 ],
 "metadata": {
  "kernelspec": {
   "display_name": "Python 3",
   "language": "python",
   "name": "python3"
  },
  "language_info": {
   "codemirror_mode": {
    "name": "ipython",
    "version": 3
   },
   "file_extension": ".py",
   "mimetype": "text/x-python",
   "name": "python",
   "nbconvert_exporter": "python",
   "pygments_lexer": "ipython3",
   "version": "3.6.10"
  },
  "nteract": {
   "version": "0.12.3"
  }
 },
 "nbformat": 4,
 "nbformat_minor": 4
}
